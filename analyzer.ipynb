{
 "cells": [
  {
   "cell_type": "markdown",
   "metadata": {},
   "source": [
    "# Ceneo Analyzer"
   ]
  },
  {
   "cell_type": "markdown",
   "metadata": {
    "vscode": {
     "languageId": "plaintext"
    }
   },
   "source": [
    "## Biblioteki"
   ]
  },
  {
   "cell_type": "code",
   "execution_count": 35,
   "metadata": {},
   "outputs": [],
   "source": [
    "import os\n",
    "import pandas as pd\n",
    "import matplotlib.pyplot as plt\n",
    "import numpy as np"
   ]
  },
  {
   "cell_type": "markdown",
   "metadata": {
    "vscode": {
     "languageId": "plaintext"
    }
   },
   "source": [
    "## Lista kodów wszystkich produktów, o których zostały pobrane opinie"
   ]
  },
  {
   "cell_type": "code",
   "execution_count": 36,
   "metadata": {},
   "outputs": [
    {
     "name": "stdout",
     "output_type": "stream",
     "text": [
      "156456\n",
      "156802519\n",
      "51614\n",
      "99891161\n"
     ]
    }
   ],
   "source": [
    "print(*[filename.split(\".\")[0] for filename in os.listdir(\"opinions\")], sep = \"\\n\")"
   ]
  },
  {
   "cell_type": "markdown",
   "metadata": {},
   "source": [
    "## Kod produktu, dla krórego ma zostać wykonana analiza opinii"
   ]
  },
  {
   "cell_type": "code",
   "execution_count": 37,
   "metadata": {},
   "outputs": [],
   "source": [
    "product_id = input(\"Podaj kod produktu w serwisie Ceneo.pl: \")"
   ]
  },
  {
   "cell_type": "markdown",
   "metadata": {},
   "source": [
    "## Wczytanke do obiektu pandas.DataFrame opinii o wskazanym produkcie"
   ]
  },
  {
   "cell_type": "code",
   "execution_count": 38,
   "metadata": {},
   "outputs": [],
   "source": [
    "opinions = pd.read_json(f\"opinions/{product_id}.json\")"
   ]
  },
  {
   "cell_type": "code",
   "execution_count": 39,
   "metadata": {},
   "outputs": [
    {
     "data": {
      "text/html": [
       "<div>\n",
       "<style scoped>\n",
       "    .dataframe tbody tr th:only-of-type {\n",
       "        vertical-align: middle;\n",
       "    }\n",
       "\n",
       "    .dataframe tbody tr th {\n",
       "        vertical-align: top;\n",
       "    }\n",
       "\n",
       "    .dataframe thead th {\n",
       "        text-align: right;\n",
       "    }\n",
       "</style>\n",
       "<table border=\"1\" class=\"dataframe\">\n",
       "  <thead>\n",
       "    <tr style=\"text-align: right;\">\n",
       "      <th></th>\n",
       "      <th>opinion_id</th>\n",
       "      <th>author</th>\n",
       "      <th>recommendation</th>\n",
       "      <th>rating</th>\n",
       "      <th>content</th>\n",
       "      <th>pros</th>\n",
       "      <th>cons</th>\n",
       "      <th>useful</th>\n",
       "      <th>useless</th>\n",
       "      <th>publish_date</th>\n",
       "      <th>purchase_date</th>\n",
       "    </tr>\n",
       "  </thead>\n",
       "  <tbody>\n",
       "    <tr>\n",
       "      <th>0</th>\n",
       "      <td>18387464</td>\n",
       "      <td>MIODAR</td>\n",
       "      <td>Polecam</td>\n",
       "      <td>5/5</td>\n",
       "      <td>Jest to mój pierwszy tego typu blender. Postan...</td>\n",
       "      <td>[]</td>\n",
       "      <td>[]</td>\n",
       "      <td>0</td>\n",
       "      <td>0</td>\n",
       "      <td>2024-02-11 04:05:41</td>\n",
       "      <td>2024-02-03 10:38:15</td>\n",
       "    </tr>\n",
       "    <tr>\n",
       "      <th>1</th>\n",
       "      <td>18537596</td>\n",
       "      <td>kasiulek</td>\n",
       "      <td>Polecam</td>\n",
       "      <td>5/5</td>\n",
       "      <td>Rewelacyjny, piękny dizajn, posiadam kolor mie...</td>\n",
       "      <td>[]</td>\n",
       "      <td>[]</td>\n",
       "      <td>0</td>\n",
       "      <td>0</td>\n",
       "      <td>2024-03-30 08:31:50</td>\n",
       "      <td>2024-03-28 07:32:50</td>\n",
       "    </tr>\n",
       "    <tr>\n",
       "      <th>2</th>\n",
       "      <td>18359374</td>\n",
       "      <td>Natalia</td>\n",
       "      <td>Polecam</td>\n",
       "      <td>5/5</td>\n",
       "      <td>Dopiero zaczynam przygodę z Blendy, ale:\\nJest...</td>\n",
       "      <td>[]</td>\n",
       "      <td>[]</td>\n",
       "      <td>0</td>\n",
       "      <td>0</td>\n",
       "      <td>2024-02-01 19:23:06</td>\n",
       "      <td>2024-01-28 14:47:11</td>\n",
       "    </tr>\n",
       "    <tr>\n",
       "      <th>3</th>\n",
       "      <td>18394372</td>\n",
       "      <td>angelikasitek26</td>\n",
       "      <td>Polecam</td>\n",
       "      <td>5/5</td>\n",
       "      <td>Produkt bardzo solidnie wykonany. Piękny żywy ...</td>\n",
       "      <td>[]</td>\n",
       "      <td>[]</td>\n",
       "      <td>0</td>\n",
       "      <td>0</td>\n",
       "      <td>2024-02-13 13:50:51</td>\n",
       "      <td>2024-02-11 23:30:15</td>\n",
       "    </tr>\n",
       "    <tr>\n",
       "      <th>4</th>\n",
       "      <td>18590279</td>\n",
       "      <td>m...0</td>\n",
       "      <td>Polecam</td>\n",
       "      <td>5/5</td>\n",
       "      <td>Bardzo fajnie urządzenie, w podróży nie trzeba...</td>\n",
       "      <td>[]</td>\n",
       "      <td>[]</td>\n",
       "      <td>0</td>\n",
       "      <td>0</td>\n",
       "      <td>2024-04-20 06:28:13</td>\n",
       "      <td>2024-04-10 07:08:52</td>\n",
       "    </tr>\n",
       "    <tr>\n",
       "      <th>...</th>\n",
       "      <td>...</td>\n",
       "      <td>...</td>\n",
       "      <td>...</td>\n",
       "      <td>...</td>\n",
       "      <td>...</td>\n",
       "      <td>...</td>\n",
       "      <td>...</td>\n",
       "      <td>...</td>\n",
       "      <td>...</td>\n",
       "      <td>...</td>\n",
       "      <td>...</td>\n",
       "    </tr>\n",
       "    <tr>\n",
       "      <th>128</th>\n",
       "      <td>18002927</td>\n",
       "      <td>Użytkownik Ceneo</td>\n",
       "      <td>Polecam</td>\n",
       "      <td>5/5</td>\n",
       "      <td>Czekałem na premierę wersji 3 i się nie zawiod...</td>\n",
       "      <td>[]</td>\n",
       "      <td>[]</td>\n",
       "      <td>0</td>\n",
       "      <td>0</td>\n",
       "      <td>2023-10-15 19:52:06</td>\n",
       "      <td>None</td>\n",
       "    </tr>\n",
       "    <tr>\n",
       "      <th>129</th>\n",
       "      <td>18057101</td>\n",
       "      <td>Użytkownik Ceneo</td>\n",
       "      <td>Polecam</td>\n",
       "      <td>5/5</td>\n",
       "      <td>To mój pierwszy blender od Blendy go i jest to...</td>\n",
       "      <td>[]</td>\n",
       "      <td>[]</td>\n",
       "      <td>0</td>\n",
       "      <td>0</td>\n",
       "      <td>2023-11-01 20:12:48</td>\n",
       "      <td>None</td>\n",
       "    </tr>\n",
       "    <tr>\n",
       "      <th>130</th>\n",
       "      <td>18022873</td>\n",
       "      <td>Dmitrij</td>\n",
       "      <td>Polecam</td>\n",
       "      <td>5/5</td>\n",
       "      <td>blender jest świetny. Szukałem przenośnego. Do...</td>\n",
       "      <td>[]</td>\n",
       "      <td>[]</td>\n",
       "      <td>0</td>\n",
       "      <td>0</td>\n",
       "      <td>2023-10-20 17:53:20</td>\n",
       "      <td>None</td>\n",
       "    </tr>\n",
       "    <tr>\n",
       "      <th>131</th>\n",
       "      <td>17903116</td>\n",
       "      <td>Użytkownik Ceneo</td>\n",
       "      <td>Polecam</td>\n",
       "      <td>5/5</td>\n",
       "      <td>Jest super😀</td>\n",
       "      <td>[]</td>\n",
       "      <td>[]</td>\n",
       "      <td>0</td>\n",
       "      <td>0</td>\n",
       "      <td>2023-09-14 21:25:19</td>\n",
       "      <td>None</td>\n",
       "    </tr>\n",
       "    <tr>\n",
       "      <th>132</th>\n",
       "      <td>17947654</td>\n",
       "      <td>Użytkownik Ceneo</td>\n",
       "      <td>Polecam</td>\n",
       "      <td>5/5</td>\n",
       "      <td>Polecam</td>\n",
       "      <td>[]</td>\n",
       "      <td>[]</td>\n",
       "      <td>0</td>\n",
       "      <td>0</td>\n",
       "      <td>2023-09-28 10:40:52</td>\n",
       "      <td>None</td>\n",
       "    </tr>\n",
       "  </tbody>\n",
       "</table>\n",
       "<p>133 rows × 11 columns</p>\n",
       "</div>"
      ],
      "text/plain": [
       "     opinion_id            author recommendation rating  \\\n",
       "0      18387464            MIODAR        Polecam    5/5   \n",
       "1      18537596          kasiulek        Polecam    5/5   \n",
       "2      18359374           Natalia        Polecam    5/5   \n",
       "3      18394372   angelikasitek26        Polecam    5/5   \n",
       "4      18590279             m...0        Polecam    5/5   \n",
       "..          ...               ...            ...    ...   \n",
       "128    18002927  Użytkownik Ceneo        Polecam    5/5   \n",
       "129    18057101  Użytkownik Ceneo        Polecam    5/5   \n",
       "130    18022873           Dmitrij        Polecam    5/5   \n",
       "131    17903116  Użytkownik Ceneo        Polecam    5/5   \n",
       "132    17947654  Użytkownik Ceneo        Polecam    5/5   \n",
       "\n",
       "                                               content pros cons  useful  \\\n",
       "0    Jest to mój pierwszy tego typu blender. Postan...   []   []       0   \n",
       "1    Rewelacyjny, piękny dizajn, posiadam kolor mie...   []   []       0   \n",
       "2    Dopiero zaczynam przygodę z Blendy, ale:\\nJest...   []   []       0   \n",
       "3    Produkt bardzo solidnie wykonany. Piękny żywy ...   []   []       0   \n",
       "4    Bardzo fajnie urządzenie, w podróży nie trzeba...   []   []       0   \n",
       "..                                                 ...  ...  ...     ...   \n",
       "128  Czekałem na premierę wersji 3 i się nie zawiod...   []   []       0   \n",
       "129  To mój pierwszy blender od Blendy go i jest to...   []   []       0   \n",
       "130  blender jest świetny. Szukałem przenośnego. Do...   []   []       0   \n",
       "131                                        Jest super😀   []   []       0   \n",
       "132                                            Polecam   []   []       0   \n",
       "\n",
       "     useless         publish_date        purchase_date  \n",
       "0          0  2024-02-11 04:05:41  2024-02-03 10:38:15  \n",
       "1          0  2024-03-30 08:31:50  2024-03-28 07:32:50  \n",
       "2          0  2024-02-01 19:23:06  2024-01-28 14:47:11  \n",
       "3          0  2024-02-13 13:50:51  2024-02-11 23:30:15  \n",
       "4          0  2024-04-20 06:28:13  2024-04-10 07:08:52  \n",
       "..       ...                  ...                  ...  \n",
       "128        0  2023-10-15 19:52:06                 None  \n",
       "129        0  2023-11-01 20:12:48                 None  \n",
       "130        0  2023-10-20 17:53:20                 None  \n",
       "131        0  2023-09-14 21:25:19                 None  \n",
       "132        0  2023-09-28 10:40:52                 None  \n",
       "\n",
       "[133 rows x 11 columns]"
      ]
     },
     "execution_count": 39,
     "metadata": {},
     "output_type": "execute_result"
    }
   ],
   "source": [
    "opinions"
   ]
  },
  {
   "cell_type": "code",
   "execution_count": 40,
   "metadata": {},
   "outputs": [],
   "source": [
    "opinions.rating = opinions.rating.apply(lambda rate: rate.split(\"/\")[0].replace(\",\",\".\")).astype(float)"
   ]
  },
  {
   "cell_type": "markdown",
   "metadata": {},
   "source": [
    "## Podstawowe statystyki"
   ]
  },
  {
   "cell_type": "code",
   "execution_count": 41,
   "metadata": {},
   "outputs": [],
   "source": [
    "opinions_count = opinions.shape[0]\n",
    "pros_count = opinions.pros.astype(bool).sum()\n",
    "cons_count = opinions.cons.astype(bool).sum()\n",
    "average_rating = opinions.rating.mean()"
   ]
  },
  {
   "cell_type": "markdown",
   "metadata": {},
   "source": [
    "## Histogram częstości poszczególnych ocen w opiniach o produkcie"
   ]
  },
  {
   "cell_type": "code",
   "execution_count": 42,
   "metadata": {},
   "outputs": [
    {
     "name": "stdout",
     "output_type": "stream",
     "text": [
      "rating\n",
      "0.0      0.0\n",
      "0.5      2.0\n",
      "1.0      0.0\n",
      "1.5      0.0\n",
      "2.0      0.0\n",
      "2.5      1.0\n",
      "3.0      1.0\n",
      "3.5      1.0\n",
      "4.0      1.0\n",
      "4.5      9.0\n",
      "5.0    118.0\n",
      "Name: count, dtype: float64\n"
     ]
    },
    {
     "data": {
      "text/plain": [
       "[Text(0, 0, ''),\n",
       " Text(0, 0, '2'),\n",
       " Text(0, 0, ''),\n",
       " Text(0, 0, ''),\n",
       " Text(0, 0, ''),\n",
       " Text(0, 0, '1'),\n",
       " Text(0, 0, '1'),\n",
       " Text(0, 0, '1'),\n",
       " Text(0, 0, '1'),\n",
       " Text(0, 0, '9'),\n",
       " Text(0, 0, '118')]"
      ]
     },
     "execution_count": 42,
     "metadata": {},
     "output_type": "execute_result"
    },
    {
     "data": {
      "image/png": "[encoded data removed]",
      "text/plain": [
       "<Figure size 640x480 with 1 Axes>"
      ]
     },
     "metadata": {},
     "output_type": "display_data"
    }
   ],
   "source": [
    "rating_distribution = opinions.rating.value_counts().sort_index().reindex(np.arange(0,5.5,0.5), fill_value = 0.0)\n",
    "print(rating_distribution)\n",
    "fig, ax = plt.subplots()\n",
    "rating_distribution.plot.bar(color = 'violet')\n",
    "plt.xticks(rotation= 0)\n",
    "plt.xlabel(\"Liczba gwiazdek\")\n",
    "plt.ylabel('Liczba opinii')\n",
    "plt.title(\"Histogram częstości ocen w opiniach\")\n",
    "ax.bar_label(ax.containers[0], label_type='edge', fmt=lambda x: int(x) if x > 0 else \"\")"
   ]
  },
  {
   "cell_type": "markdown",
   "metadata": {},
   "source": [
    "## Udział poszczególnych rekomendacji w opiniach o produkcie"
   ]
  },
  {
   "cell_type": "code",
   "execution_count": 48,
   "metadata": {},
   "outputs": [
    {
     "data": {
      "text/plain": [
       "Text(0.5, 1.0, 'Udział rekomendacji w opiniach')"
      ]
     },
     "execution_count": 48,
     "metadata": {},
     "output_type": "execute_result"
    },
    {
     "data": {
      "image/png": "[encoded data removed]",
      "text/plain": [
       "<Figure size 640x480 with 1 Axes>"
      ]
     },
     "metadata": {},
     "output_type": "display_data"
    }
   ],
   "source": [
    "recommendation_distribution = opinions.recommendation.value_counts(dropna=False).reindex([\"Polecam\", \"Nie polecam\", None])\n",
    "recommendation_distribution\n",
    "recommendation_distribution.plot.pie(\n",
    "    label=\"\",\n",
    "    colors=[\"seagreen\", \"palevioletred\", \"thistle\"],\n",
    "    labels = [\"Polecam\", \"Nie polecam\", \"Nie mam zdania\"]\n",
    ")\n",
    "plt.title(\"Udział rekomendacji w opiniach\")"
   ]
  }
 ],
 "metadata": {
  "kernelspec": {
   "display_name": ".venv",
   "language": "python",
   "name": "python3"
  },
  "language_info": {
   "codemirror_mode": {
    "name": "ipython",
    "version": 3
   },
   "file_extension": ".py",
   "mimetype": "text/x-python",
   "name": "python",
   "nbconvert_exporter": "python",
   "pygments_lexer": "ipython3",
   "version": "3.11.4"
  }
 },
 "nbformat": 4,
 "nbformat_minor": 2
}
